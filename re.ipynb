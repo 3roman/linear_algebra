{
 "cells": [
  {
   "cell_type": "markdown",
   "metadata": {},
   "source": [
    "Fork of https://github.com/jcchurch/C-Linear-Algebra/\n",
    "\n",
    "Function List\n",
    "- [] create_matrix\n",
    "- [x] free_matrix\n",
    "- [x] print_matrix\n",
    "- [x] scale_matrix\n",
    "- [x] transpose_matrix\n",
    "- [x] inverse_matrix\n",
    "- [x] add_matrixes\n",
    "- [x] dot_product_matrixes"
   ]
  }
 ],
 "metadata": {
  "language_info": {
   "name": "python"
  }
 },
 "nbformat": 4,
 "nbformat_minor": 2
}
